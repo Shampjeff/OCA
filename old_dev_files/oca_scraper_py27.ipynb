{
 "cells": [
  {
   "cell_type": "code",
   "execution_count": 1,
   "metadata": {
    "scrolled": true
   },
   "outputs": [],
   "source": [
    "import requests\n",
    "import pandas as pd\n",
    "import numpy as np\n",
    "# import boto3\n",
    "# import botocore\n",
    "import time\n",
    "from contextlib import closing\n",
    "import csv\n",
    "import string"
   ]
  },
  {
   "cell_type": "code",
   "execution_count": 2,
   "metadata": {},
   "outputs": [],
   "source": [
    "test = pd.read_csv(\"oca_stat.csv\")"
   ]
  },
  {
   "cell_type": "code",
   "execution_count": 2,
   "metadata": {},
   "outputs": [
    {
     "data": {
      "text/plain": [
       "'https://www.nycourts.gov/LegacyPDFS/court-research/OCA-STAT-Act.csv'"
      ]
     },
     "execution_count": 2,
     "metadata": {},
     "output_type": "execute_result"
    }
   ],
   "source": [
    "link_base= \"https://www.nycourts.gov/\"\n",
    "link_path = \"LegacyPDFS/court-research/OCA-STAT-Act.csv\"\n",
    "link_url = link_base+link_path\n",
    "link_url"
   ]
  },
  {
   "cell_type": "code",
   "execution_count": 3,
   "metadata": {},
   "outputs": [],
   "source": [
    "data_list = []\n",
    "with closing(requests.get(link_url, stream=True)) as r:\n",
    "    f = (line.decode('utf-8', 'ignore') for line in r.iter_lines())\n",
    "    reader = csv.reader(f, delimiter=',')\n",
    "    for row in reader:\n",
    "        data_list.append(row)"
   ]
  },
  {
   "cell_type": "code",
   "execution_count": null,
   "metadata": {},
   "outputs": [],
   "source": []
  },
  {
   "cell_type": "code",
   "execution_count": null,
   "metadata": {},
   "outputs": [],
   "source": []
  },
  {
   "cell_type": "code",
   "execution_count": 4,
   "metadata": {},
   "outputs": [],
   "source": [
    "oca_data = pd.DataFrame(data_list[1:], columns=data_list[0])\n",
    "oca_data.dropna(axis = 0, how = 'any', inplace=True)"
   ]
  },
  {
   "cell_type": "code",
   "execution_count": 5,
   "metadata": {},
   "outputs": [
    {
     "name": "stderr",
     "output_type": "stream",
     "text": [
      "<ipython-input-5-e9adfcb8168f>:2: FutureWarning: The default value of regex will change from True to False in a future version. In addition, single character regular expressions will*not* be treated as literal strings when regex=True.\n",
      "  oca_data.columns = oca_data.columns.str.replace(\" \", \"_\").str.replace(\".\", \"_\")\n"
     ]
    }
   ],
   "source": [
    "oca_data.columns = oca_data.columns.str.lower()\n",
    "oca_data.columns = oca_data.columns.str.replace(\" \", \"_\").str.replace(\".\", \"_\")"
   ]
  },
  {
   "cell_type": "code",
   "execution_count": 6,
   "metadata": {},
   "outputs": [],
   "source": [
    "oca_data.arraign_year = pd.to_numeric(oca_data.arraign_year, \n",
    "                                      errors='coerce') \\\n",
    "                            .fillna(0).astype(np.int64)\n",
    "oca_data.arraign_month = pd.to_numeric(oca_data.arraign_month, \n",
    "                                      errors='coerce') \\\n",
    "                            .fillna(0).astype(np.int64)\n",
    "oca_data.arrest_age = pd.to_numeric(oca_data.arrest_age, \n",
    "                                      errors='coerce')\n",
    "oca_data.fines_imposed = pd.to_numeric(oca_data.fines_imposed, \n",
    "                                      errors='coerce')\n",
    "oca_data.fees_imposed = pd.to_numeric(oca_data.fees_imposed, \n",
    "                                      errors='coerce')\n",
    "oca_data.surcharges_imposed = pd.to_numeric(oca_data.surcharges_imposed, \n",
    "                                      errors='coerce')"
   ]
  },
  {
   "cell_type": "code",
   "execution_count": 7,
   "metadata": {},
   "outputs": [
    {
     "name": "stderr",
     "output_type": "stream",
     "text": [
      "<ipython-input-7-3929d0c6ddbb>:4: FutureWarning: The default value of regex will change from True to False in a future version.\n",
      "  oca_data.article_section = oca_data.article_section.str.replace(\"\\.\\.\", \".\")\n"
     ]
    }
   ],
   "source": [
    "# basic clean up and standardization \n",
    "oca_data = oca_data.applymap(lambda x:x.lower() if type(x) == str else x)\n",
    "oca_data.article_section = oca_data.article_section.str.rstrip(\".\")\n",
    "oca_data.article_section = oca_data.article_section.str.replace(\"\\.\\.\", \".\")\n",
    "oca_data.drop(\"row_#\",axis=1, inplace=True)\n",
    "oca_data[[\"article_bxd\", \"section_bxd\"]] = \\\n",
    "    oca_data.article_section.str.split(\".\", n=1,expand=True)"
   ]
  },
  {
   "cell_type": "code",
   "execution_count": 8,
   "metadata": {},
   "outputs": [
    {
     "name": "stderr",
     "output_type": "stream",
     "text": [
      "/Users/jeffshamp/Documents/GitHub/OCA_data/oca_utils/oca_utils.py:97: FutureWarning: The default value of regex will change from True to False in a future version.\n",
      "  oca_data.arresting_agency = oca_data.arresting_agency.str.replace(\n",
      "/Users/jeffshamp/Documents/GitHub/OCA_data/oca_utils/oca_utils.py:106: FutureWarning: The default value of regex will change from True to False in a future version.\n",
      "  oca_data.arresting_agency = oca_data.arresting_agency.str.replace(\n",
      "/Users/jeffshamp/Documents/GitHub/OCA_data/oca_utils/oca_utils.py:112: FutureWarning: The default value of regex will change from True to False in a future version.\n",
      "  oca_data.arresting_agency = oca_data.arresting_agency.str.replace(\n",
      "/Users/jeffshamp/Documents/GitHub/OCA_data/oca_utils/oca_utils.py:114: FutureWarning: The default value of regex will change from True to False in a future version.\n",
      "  oca_data.arresting_agency = oca_data.arresting_agency.str.replace(\n",
      "/Users/jeffshamp/Documents/GitHub/OCA_data/oca_utils/oca_utils.py:116: FutureWarning: The default value of regex will change from True to False in a future version.\n",
      "  oca_data.arresting_agency = oca_data.arresting_agency.str.replace(\n",
      "/Users/jeffshamp/Documents/GitHub/OCA_data/oca_utils/oca_utils.py:118: FutureWarning: The default value of regex will change from True to False in a future version.\n",
      "  oca_data.arresting_agency = oca_data.arresting_agency.str.replace(\n",
      "/Users/jeffshamp/Documents/GitHub/OCA_data/oca_utils/oca_utils.py:120: FutureWarning: The default value of regex will change from True to False in a future version.\n",
      "  oca_data.arresting_agency = oca_data.arresting_agency.str.replace(\n"
     ]
    }
   ],
   "source": [
    "from oca_utils.oca_utils import *\n",
    "oca_data = make_clean_precincts(oca_data)\n",
    "\n",
    "fel_weights = [x for x in oca_data.weight.unique() if \"f\" in x]\n",
    "fel_series = oca_data[oca_data.weight.isin(fel_weights)] \\\n",
    "    .article_bxd.apply(lambda x: make_felonies(x))\n",
    "vio_series = oca_data[oca_data.law.isin([\"vtl\"])] \\\n",
    "    .article_bxd.apply(lambda x: make_violations(x))\n",
    "bxd_category = pd.concat([fel_series, vio_series]) \\\n",
    "    .rename(\"category_bxd\")\n",
    "oca_data = oca_data.join(bxd_category)"
   ]
  },
  {
   "cell_type": "code",
   "execution_count": 9,
   "metadata": {},
   "outputs": [],
   "source": [
    "weapons = (\"|\").join([\"wea\", \"wpn\", \"wep\"])\n",
    "oca_data['weapon_charge_bxd'] = False\n",
    "oca_data.loc[(oca_data.top_charge_at_arraignment.str.contains(weapons)) &\n",
    "    (oca_data.weight != \"v\"), 'weapon_charge_bxd'] = True\n",
    "\n",
    "sex_charge = (\"|\").join([\"sex\", \"sx\"])\n",
    "oca_data[\"sex_charge_bxd\"] = False\n",
    "oca_data.loc[(oca_data.top_charge_at_arraignment.str.contains(sex_charge)),\n",
    "         \"sex_charge_bxd\"] = True"
   ]
  },
  {
   "cell_type": "code",
   "execution_count": 10,
   "metadata": {},
   "outputs": [
    {
     "name": "stderr",
     "output_type": "stream",
     "text": [
      "<ipython-input-10-8ef1614ee11c>:3: FutureWarning: The default value of regex will change from True to False in a future version.\n",
      "  oca_data[col] = oca_data[col].str.replace('[{}]'.format(string.punctuation), ' ')\n"
     ]
    }
   ],
   "source": [
    "for col in oca_data:\n",
    "    if oca_data[col].dtype == \"O\":\n",
    "        oca_data[col] = oca_data[col].str.replace('[{}]'.format(string.punctuation), ' ')"
   ]
  },
  {
   "cell_type": "code",
   "execution_count": 11,
   "metadata": {},
   "outputs": [],
   "source": [
    "#import unidecode\n",
    "# def remove_accents(row):\n",
    "#     return unicode(row, \"utf-8\")\n",
    "# oca_data.top_charge_at_arraignment = \\\n",
    "#     oca_data.top_charge_at_arraignment.apply(lambda x: remove_accents(x))"
   ]
  },
  {
   "cell_type": "code",
   "execution_count": 12,
   "metadata": {},
   "outputs": [
    {
     "data": {
      "text/html": [
       "<div>\n",
       "<style scoped>\n",
       "    .dataframe tbody tr th:only-of-type {\n",
       "        vertical-align: middle;\n",
       "    }\n",
       "\n",
       "    .dataframe tbody tr th {\n",
       "        vertical-align: top;\n",
       "    }\n",
       "\n",
       "    .dataframe thead th {\n",
       "        text-align: right;\n",
       "    }\n",
       "</style>\n",
       "<table border=\"1\" class=\"dataframe\">\n",
       "  <thead>\n",
       "    <tr style=\"text-align: right;\">\n",
       "      <th></th>\n",
       "      <th>top_charge_at_arraignment</th>\n",
       "      <th>article_section</th>\n",
       "      <th>law</th>\n",
       "      <th>severity</th>\n",
       "      <th>weight</th>\n",
       "    </tr>\n",
       "  </thead>\n",
       "  <tbody>\n",
       "    <tr>\n",
       "      <th>3</th>\n",
       "      <td>aggravated unlic oper mv 3rd</td>\n",
       "      <td>0511</td>\n",
       "      <td>vtl</td>\n",
       "      <td>misdemeanor</td>\n",
       "      <td>um</td>\n",
       "    </tr>\n",
       "    <tr>\n",
       "      <th>8</th>\n",
       "      <td>aggravated unlic oper veh 3rd</td>\n",
       "      <td>0511</td>\n",
       "      <td>vtl</td>\n",
       "      <td>misdemeanor</td>\n",
       "      <td>um</td>\n",
       "    </tr>\n",
       "    <tr>\n",
       "      <th>19</th>\n",
       "      <td>aggravated unlic oper veh 3rd</td>\n",
       "      <td>0511</td>\n",
       "      <td>vtl</td>\n",
       "      <td>misdemeanor</td>\n",
       "      <td>um</td>\n",
       "    </tr>\n",
       "    <tr>\n",
       "      <th>50</th>\n",
       "      <td>agg unlic oper 2nd 3 suspensns</td>\n",
       "      <td>0511</td>\n",
       "      <td>vtl</td>\n",
       "      <td>misdemeanor</td>\n",
       "      <td>um</td>\n",
       "    </tr>\n",
       "    <tr>\n",
       "      <th>53</th>\n",
       "      <td>aggravated unlic oper veh 3rd</td>\n",
       "      <td>0511</td>\n",
       "      <td>vtl</td>\n",
       "      <td>misdemeanor</td>\n",
       "      <td>um</td>\n",
       "    </tr>\n",
       "    <tr>\n",
       "      <th>...</th>\n",
       "      <td>...</td>\n",
       "      <td>...</td>\n",
       "      <td>...</td>\n",
       "      <td>...</td>\n",
       "      <td>...</td>\n",
       "    </tr>\n",
       "    <tr>\n",
       "      <th>215004</th>\n",
       "      <td>agg unlic oper 1  10 more susp</td>\n",
       "      <td>511 e2</td>\n",
       "      <td>vtl</td>\n",
       "      <td>felony</td>\n",
       "      <td>ef</td>\n",
       "    </tr>\n",
       "    <tr>\n",
       "      <th>215251</th>\n",
       "      <td>agg unlic oper 1   alcohol</td>\n",
       "      <td>511 e1</td>\n",
       "      <td>vtl</td>\n",
       "      <td>felony</td>\n",
       "      <td>ef</td>\n",
       "    </tr>\n",
       "    <tr>\n",
       "      <th>215251</th>\n",
       "      <td>agg unlic oper 1   alcohol</td>\n",
       "      <td>511 e1</td>\n",
       "      <td>vtl</td>\n",
       "      <td>felony</td>\n",
       "      <td>ef</td>\n",
       "    </tr>\n",
       "    <tr>\n",
       "      <th>215399</th>\n",
       "      <td>agg unlic oper 1   alcohol</td>\n",
       "      <td>511 e1</td>\n",
       "      <td>vtl</td>\n",
       "      <td>felony</td>\n",
       "      <td>ef</td>\n",
       "    </tr>\n",
       "    <tr>\n",
       "      <th>215399</th>\n",
       "      <td>agg unlic oper 1   alcohol</td>\n",
       "      <td>511 e1</td>\n",
       "      <td>vtl</td>\n",
       "      <td>felony</td>\n",
       "      <td>ef</td>\n",
       "    </tr>\n",
       "  </tbody>\n",
       "</table>\n",
       "<p>15360 rows × 5 columns</p>\n",
       "</div>"
      ],
      "text/plain": [
       "             top_charge_at_arraignment article_section  law     severity  \\\n",
       "3         aggravated unlic oper mv 3rd            0511  vtl  misdemeanor   \n",
       "8        aggravated unlic oper veh 3rd            0511  vtl  misdemeanor   \n",
       "19       aggravated unlic oper veh 3rd            0511  vtl  misdemeanor   \n",
       "50      agg unlic oper 2nd 3 suspensns            0511  vtl  misdemeanor   \n",
       "53       aggravated unlic oper veh 3rd            0511  vtl  misdemeanor   \n",
       "...                                ...             ...  ...          ...   \n",
       "215004  agg unlic oper 1  10 more susp          511 e2  vtl       felony   \n",
       "215251      agg unlic oper 1   alcohol          511 e1  vtl       felony   \n",
       "215251      agg unlic oper 1   alcohol          511 e1  vtl       felony   \n",
       "215399      agg unlic oper 1   alcohol          511 e1  vtl       felony   \n",
       "215399      agg unlic oper 1   alcohol          511 e1  vtl       felony   \n",
       "\n",
       "       weight  \n",
       "3          um  \n",
       "8          um  \n",
       "19         um  \n",
       "50         um  \n",
       "53         um  \n",
       "...       ...  \n",
       "215004     ef  \n",
       "215251     ef  \n",
       "215251     ef  \n",
       "215399     ef  \n",
       "215399     ef  \n",
       "\n",
       "[15360 rows x 5 columns]"
      ]
     },
     "execution_count": 12,
     "metadata": {},
     "output_type": "execute_result"
    }
   ],
   "source": [
    "oca_data[oca_data.article_section.str.contains(\"511\")][['top_charge_at_arraignment', 'article_section', 'law', 'severity', 'weight']]"
   ]
  },
  {
   "cell_type": "code",
   "execution_count": 18,
   "metadata": {},
   "outputs": [],
   "source": [
    "write_csv = False\n",
    "if write_csv:\n",
    "    oca_data.to_csv(\"codec_test.csv\", encoding='utf-8')"
   ]
  },
  {
   "cell_type": "code",
   "execution_count": 13,
   "metadata": {},
   "outputs": [
    {
     "data": {
      "text/plain": [
       "court\n",
       "bronx criminal court              160\n",
       "queens criminal court              64\n",
       "kings criminal court               40\n",
       "new york criminal court            36\n",
       "bronx supreme court                15\n",
       "suffolk 1st district court         13\n",
       "nassau district court              11\n",
       "richmond criminal court            10\n",
       "queens supreme court                7\n",
       "colonie t j                         5\n",
       "syracuse city court                 5\n",
       "kings supreme court                 4\n",
       "new york supreme court              4\n",
       "lancaster t j                       3\n",
       "clifton park t j                    3\n",
       "steuben county court                3\n",
       "fulton city court                   2\n",
       "peekskill city court                2\n",
       "middletown city court               2\n",
       "mount vernon city court             2\n",
       "nassau county court                 2\n",
       "utica city court                    2\n",
       "buffalo city court                  2\n",
       "hornellsville t j                   2\n",
       "southampton t j                     1\n",
       "suffolk county court                1\n",
       "springport t j                      1\n",
       "saratoga springs city court         1\n",
       "tonawanda t j                       1\n",
       "ulster t j                          1\n",
       "wallkill t j                        1\n",
       "schodack t j                        1\n",
       "batavia city court                  1\n",
       "rotterdam t j                       1\n",
       "richmond supreme court              1\n",
       "oswego city court                   1\n",
       "onondaga county court               1\n",
       "new hartford t j                    1\n",
       "malta t j                           1\n",
       "lysander t j                        1\n",
       "genesee county court                1\n",
       "erie county court                   1\n",
       "elbridge t j                        1\n",
       "cheektowaga t j                     1\n",
       "brunswick t j                       1\n",
       "waterford t j                       1\n",
       "Name: region, dtype: int64"
      ]
     },
     "execution_count": 13,
     "metadata": {},
     "output_type": "execute_result"
    }
   ],
   "source": [
    "oca_data[(oca_data.article_bxd == \"230\" ) |\n",
    "        (oca_data.article_bxd == \"225\")] \\\n",
    "        .groupby([\"court\"]).count()['region'].sort_values(ascending=False)"
   ]
  },
  {
   "cell_type": "code",
   "execution_count": 16,
   "metadata": {},
   "outputs": [
    {
     "data": {
      "text/plain": [
       "arraign_month\n",
       "1     20202\n",
       "2     19004\n",
       "3     27342\n",
       "4     24981\n",
       "11    26157\n",
       "12    20992\n",
       "Name: court, dtype: int64"
      ]
     },
     "execution_count": 16,
     "metadata": {},
     "output_type": "execute_result"
    }
   ],
   "source": [
    "oca_data.groupby(\"arraign_month\").count()[\"court\"]"
   ]
  },
  {
   "cell_type": "markdown",
   "metadata": {},
   "source": [
    "## Slated for deletion"
   ]
  },
  {
   "cell_type": "code",
   "execution_count": 4,
   "metadata": {},
   "outputs": [
    {
     "data": {
      "text/plain": [
       "Index(['Unnamed: 0', 'court_type', 'region', 'district', 'county', 'court',\n",
       "       'arresting_agency', 'arrest_type', 'arraign_year', 'arraign_month',\n",
       "       'top_charge_at_arraignment', 'severity', 'weight', 'law',\n",
       "       'article_section', 'attempt_flag', 'gender', 'ethnicity', 'race',\n",
       "       'arrest_age', 'docket_status', 'disposition_type', 'disposition_detail',\n",
       "       'dismissal_reason', 'most_severe_sentence', 'fines_imposed',\n",
       "       'fees_imposed', 'surcharges_imposed', 'article_bxd', 'section_bxd',\n",
       "       'category_bxd', 'weapon_charge_bxd', 'sex_charge_bxd'],\n",
       "      dtype='object')"
      ]
     },
     "execution_count": 4,
     "metadata": {},
     "output_type": "execute_result"
    }
   ],
   "source": [
    "test.columns"
   ]
  },
  {
   "cell_type": "code",
   "execution_count": 20,
   "metadata": {},
   "outputs": [
    {
     "data": {
      "text/html": [
       "<div>\n",
       "<style scoped>\n",
       "    .dataframe tbody tr th:only-of-type {\n",
       "        vertical-align: middle;\n",
       "    }\n",
       "\n",
       "    .dataframe tbody tr th {\n",
       "        vertical-align: top;\n",
       "    }\n",
       "\n",
       "    .dataframe thead th {\n",
       "        text-align: right;\n",
       "    }\n",
       "</style>\n",
       "<table border=\"1\" class=\"dataframe\">\n",
       "  <thead>\n",
       "    <tr style=\"text-align: right;\">\n",
       "      <th></th>\n",
       "      <th>top_charge_at_arraignment</th>\n",
       "      <th>disposition_type</th>\n",
       "      <th>disposition_detail</th>\n",
       "      <th>dismissal_reason</th>\n",
       "      <th>most_severe_sentence</th>\n",
       "      <th>court_type</th>\n",
       "    </tr>\n",
       "  </thead>\n",
       "  <tbody>\n",
       "    <tr>\n",
       "      <th>0</th>\n",
       "      <td>murder: intention</td>\n",
       "      <td></td>\n",
       "      <td></td>\n",
       "      <td></td>\n",
       "      <td></td>\n",
       "      <td>532</td>\n",
       "    </tr>\n",
       "    <tr>\n",
       "      <th>1</th>\n",
       "      <td>murder: intention</td>\n",
       "      <td>gj/trans</td>\n",
       "      <td>transfer to superior court</td>\n",
       "      <td></td>\n",
       "      <td></td>\n",
       "      <td>238</td>\n",
       "    </tr>\n",
       "    <tr>\n",
       "      <th>2</th>\n",
       "      <td>aslt:w/int caus ser inj w/weap</td>\n",
       "      <td></td>\n",
       "      <td></td>\n",
       "      <td></td>\n",
       "      <td></td>\n",
       "      <td>205</td>\n",
       "    </tr>\n",
       "    <tr>\n",
       "      <th>3</th>\n",
       "      <td>aslt w/int caus ser inj w/weap</td>\n",
       "      <td>gj/trans</td>\n",
       "      <td>transfer to superior court</td>\n",
       "      <td></td>\n",
       "      <td></td>\n",
       "      <td>197</td>\n",
       "    </tr>\n",
       "    <tr>\n",
       "      <th>4</th>\n",
       "      <td>aslt w/int caus ser inj w/weap</td>\n",
       "      <td></td>\n",
       "      <td></td>\n",
       "      <td></td>\n",
       "      <td></td>\n",
       "      <td>142</td>\n",
       "    </tr>\n",
       "    <tr>\n",
       "      <th>...</th>\n",
       "      <td>...</td>\n",
       "      <td>...</td>\n",
       "      <td>...</td>\n",
       "      <td>...</td>\n",
       "      <td>...</td>\n",
       "      <td>...</td>\n",
       "    </tr>\n",
       "    <tr>\n",
       "      <th>88</th>\n",
       "      <td>murder - 2nd deg</td>\n",
       "      <td>dismissed</td>\n",
       "      <td>dismissed and superseded</td>\n",
       "      <td>dismissed and superseded</td>\n",
       "      <td></td>\n",
       "      <td>1</td>\n",
       "    </tr>\n",
       "    <tr>\n",
       "      <th>89</th>\n",
       "      <td>murder-2: during specified fel</td>\n",
       "      <td>dismissed</td>\n",
       "      <td>dismissed</td>\n",
       "      <td>interest/furtherance of justice (cpl 170.30 (1...</td>\n",
       "      <td></td>\n",
       "      <td>1</td>\n",
       "    </tr>\n",
       "    <tr>\n",
       "      <th>90</th>\n",
       "      <td>murder-2:deprav-kill person&lt;11</td>\n",
       "      <td>gj/trans</td>\n",
       "      <td>transfer to superior court</td>\n",
       "      <td></td>\n",
       "      <td></td>\n",
       "      <td>1</td>\n",
       "    </tr>\n",
       "    <tr>\n",
       "      <th>91</th>\n",
       "      <td>murder-2nd deg</td>\n",
       "      <td></td>\n",
       "      <td></td>\n",
       "      <td></td>\n",
       "      <td></td>\n",
       "      <td>1</td>\n",
       "    </tr>\n",
       "    <tr>\n",
       "      <th>92</th>\n",
       "      <td>murder:while commit cert fels</td>\n",
       "      <td>gj/trans</td>\n",
       "      <td>trans to grand jury/another court</td>\n",
       "      <td></td>\n",
       "      <td></td>\n",
       "      <td>1</td>\n",
       "    </tr>\n",
       "  </tbody>\n",
       "</table>\n",
       "<p>93 rows × 6 columns</p>\n",
       "</div>"
      ],
      "text/plain": [
       "         top_charge_at_arraignment disposition_type  \\\n",
       "0                murder: intention                    \n",
       "1                murder: intention         gj/trans   \n",
       "2   aslt:w/int caus ser inj w/weap                    \n",
       "3   aslt w/int caus ser inj w/weap         gj/trans   \n",
       "4   aslt w/int caus ser inj w/weap                    \n",
       "..                             ...              ...   \n",
       "88                murder - 2nd deg        dismissed   \n",
       "89  murder-2: during specified fel        dismissed   \n",
       "90  murder-2:deprav-kill person<11         gj/trans   \n",
       "91                  murder-2nd deg                    \n",
       "92   murder:while commit cert fels         gj/trans   \n",
       "\n",
       "                   disposition_detail  \\\n",
       "0                                       \n",
       "1          transfer to superior court   \n",
       "2                                       \n",
       "3          transfer to superior court   \n",
       "4                                       \n",
       "..                                ...   \n",
       "88           dismissed and superseded   \n",
       "89                          dismissed   \n",
       "90         transfer to superior court   \n",
       "91                                      \n",
       "92  trans to grand jury/another court   \n",
       "\n",
       "                                     dismissal_reason most_severe_sentence  \\\n",
       "0                                                                            \n",
       "1                                                                            \n",
       "2                                                                            \n",
       "3                                                                            \n",
       "4                                                                            \n",
       "..                                                ...                  ...   \n",
       "88                           dismissed and superseded                        \n",
       "89  interest/furtherance of justice (cpl 170.30 (1...                        \n",
       "90                                                                           \n",
       "91                                                                           \n",
       "92                                                                           \n",
       "\n",
       "    court_type  \n",
       "0          532  \n",
       "1          238  \n",
       "2          205  \n",
       "3          197  \n",
       "4          142  \n",
       "..         ...  \n",
       "88           1  \n",
       "89           1  \n",
       "90           1  \n",
       "91           1  \n",
       "92           1  \n",
       "\n",
       "[93 rows x 6 columns]"
      ]
     },
     "execution_count": 20,
     "metadata": {},
     "output_type": "execute_result"
    }
   ],
   "source": [
    "test = test[(test.article_section.isin([\"125.25\", \"120.10\"]))]\n",
    "groups = test.groupby([\"top_charge_at_arraignment\", \"disposition_type\",\n",
    "              \"disposition_detail\", \"dismissal_reason\", \"most_severe_sentence\"]) \\\n",
    "            .count()['court_type'] \\\n",
    "            .sort_values(ascending=False) \\\n",
    "            .reset_index()\n",
    "groups"
   ]
  },
  {
   "cell_type": "code",
   "execution_count": null,
   "metadata": {},
   "outputs": [],
   "source": []
  },
  {
   "cell_type": "code",
   "execution_count": null,
   "metadata": {},
   "outputs": [],
   "source": [
    "# if is_downloadable(link_url, mod_list):\n",
    "#     r = requests.get(link_url)\n",
    "#     last_mod = r.headers['Last-Modified']\n",
    "#     mod_list.append(last_mod)\n",
    "#     oca_data = pd.read_csv(io.StringIO(r.text))\n",
    "# else: print(\"File not downloadable or exists already.\")"
   ]
  },
  {
   "cell_type": "code",
   "execution_count": null,
   "metadata": {},
   "outputs": [],
   "source": [
    "# if mod_list:\n",
    "#     with open(\"OCA_last_modified.txt\", \"wb\") as fp:\n",
    "#         pickle.dump(mod_list, fp)"
   ]
  },
  {
   "cell_type": "code",
   "execution_count": null,
   "metadata": {},
   "outputs": [],
   "source": [
    "# Re-scrape - Takes a while so use cautiously\n",
    "re_load = False\n",
    "if re_load:\n",
    "    r = requests.get(link_url)\n",
    "    oca_data = pd.read_csv(io.StringIO(r.text))"
   ]
  },
  {
   "cell_type": "code",
   "execution_count": null,
   "metadata": {},
   "outputs": [],
   "source": [
    "oca_main = oca_data.copy()"
   ]
  },
  {
   "cell_type": "code",
   "execution_count": null,
   "metadata": {},
   "outputs": [],
   "source": [
    "# Restore from copy\n",
    "quick_load = False\n",
    "if quick_load:\n",
    "    oca_data = oca_main"
   ]
  },
  {
   "cell_type": "code",
   "execution_count": null,
   "metadata": {},
   "outputs": [],
   "source": [
    "test = oca_data.drop(\"top_charge_at_arraignment\", axis=1)\n",
    "for col in test:\n",
    "    if test[col].dtype == \"O\":\n",
    "        print(col)\n",
    "        test[col] = test[col].str.encode(\"utf-8\")"
   ]
  },
  {
   "cell_type": "code",
   "execution_count": null,
   "metadata": {},
   "outputs": [],
   "source": [
    "oca_data.top_charge_at_arraignment = \\\n",
    "    oca_data.top_charge_at_arraignment.replace({' +':' '}, regex=True)\n",
    "type(oca_data.top_charge_at_arraignment)"
   ]
  },
  {
   "cell_type": "code",
   "execution_count": null,
   "metadata": {},
   "outputs": [],
   "source": [
    "oca_data.arresting_agency.str.encode('utf-8')"
   ]
  },
  {
   "cell_type": "markdown",
   "metadata": {},
   "source": [
    "## BXD S3 Upload"
   ]
  },
  {
   "cell_type": "code",
   "execution_count": null,
   "metadata": {},
   "outputs": [],
   "source": [
    "tgt_bucket = 'oca-data-test'\n",
    "tgt_csv = 'oca_data_clean_final'\n",
    "s3 = boto3.resource('s3')\n",
    "\n",
    "today_str = time.strftime(\"%Y-%m-%d\")\n",
    "#download_folder = '/home/ec2-user/gcloud/docs/'\n",
    "\n",
    "f = open(tgt_csv+'.csv', 'rb')\n",
    "s3.Bucket(tgt_bucket).put_object(\n",
    "                        Key='extract_'+today_str+'/'+tgt_csv+'.csv',\n",
    "                        ServerSideEncryption='aws:kms',\n",
    "                        StorageClass='STANDARD_IA',\n",
    "                        Body=f)"
   ]
  },
  {
   "cell_type": "code",
   "execution_count": null,
   "metadata": {},
   "outputs": [],
   "source": []
  }
 ],
 "metadata": {
  "kernelspec": {
   "display_name": "Python 3",
   "language": "python",
   "name": "python3"
  },
  "language_info": {
   "codemirror_mode": {
    "name": "ipython",
    "version": 3
   },
   "file_extension": ".py",
   "mimetype": "text/x-python",
   "name": "python",
   "nbconvert_exporter": "python",
   "pygments_lexer": "ipython3",
   "version": "3.8.8"
  }
 },
 "nbformat": 4,
 "nbformat_minor": 4
}
