{
 "cells": [
  {
   "cell_type": "markdown",
   "id": "f6f253e8",
   "metadata": {},
   "source": [
    "# Bail Data - OCA Pretrial Release"
   ]
  },
  {
   "cell_type": "code",
   "execution_count": 1,
   "id": "34ea56e1",
   "metadata": {},
   "outputs": [],
   "source": [
    "import pandas as pd\n",
    "import numpy as np\n",
    "import seaborn as sns\n",
    "import matplotlib.pyplot as plt\n",
    "sns.set_style('whitegrid')\n",
    "sns.set_palette(\"Set1\")"
   ]
  },
  {
   "cell_type": "code",
   "execution_count": 3,
   "id": "981f267f",
   "metadata": {},
   "outputs": [],
   "source": [
    "df = pd.read_csv(\"PretrialReleaseDataExtractWeb2020-revised.csv\")"
   ]
  },
  {
   "cell_type": "code",
   "execution_count": null,
   "id": "d379685d",
   "metadata": {},
   "outputs": [],
   "source": [
    "df.sample(10)"
   ]
  },
  {
   "cell_type": "code",
   "execution_count": 4,
   "id": "1c012973",
   "metadata": {},
   "outputs": [],
   "source": [
    "df.columns = df.columns.str.lower()"
   ]
  },
  {
   "cell_type": "markdown",
   "id": "13c05206-bf48-4ec5-9ed0-e36de3e6131a",
   "metadata": {},
   "source": [
    "## Electronic Monitoring"
   ]
  },
  {
   "cell_type": "code",
   "execution_count": 43,
   "id": "36b90c78-0b8d-46db-ba73-36c1ad3ea0f2",
   "metadata": {},
   "outputs": [
    {
     "data": {
      "text/plain": [
       "['passport_surrender']"
      ]
     },
     "execution_count": 43,
     "metadata": {},
     "output_type": "execute_result"
    }
   ],
   "source": [
    "[col for col in df.columns if \"passport\" in col]"
   ]
  },
  {
   "cell_type": "code",
   "execution_count": 44,
   "id": "20f923aa-d393-45e7-a351-9b5fa9060054",
   "metadata": {},
   "outputs": [],
   "source": [
    "em_df = df[[\"county_name\", \"arrest_date\", \"first_arraign_date\",\n",
    "            \"top_charge_at_arraign\", \"top_arraign_article_section\", \n",
    "            \"pretrial_supervision_at_arraign\", \"contact_pretrial_service_agency\", \n",
    "            \"electronic_monitoring\", \"travel_restrictions\",\n",
    "            \"passport_surrender\",\"no_firearms_or_weapons\",\"maintain_employment\",\n",
    "            \"maintain_housing\", \"maintain_school\", \"placement_in_mandatory_program\", \n",
    "            \"nmr_at_arraign\", \"release decision at arraign\"]]"
   ]
  },
  {
   "cell_type": "code",
   "execution_count": 45,
   "id": "4261e5f7-cd49-4826-88fe-306683ad2a1c",
   "metadata": {},
   "outputs": [
    {
     "data": {
      "text/plain": [
       "N    183207\n",
       "Y       911\n",
       "Name: electronic_monitoring, dtype: int64"
      ]
     },
     "execution_count": 45,
     "metadata": {},
     "output_type": "execute_result"
    }
   ],
   "source": [
    "em_df.electronic_monitoring.value_counts()"
   ]
  },
  {
   "cell_type": "code",
   "execution_count": 46,
   "id": "7e171039-0456-488d-a73c-40ac9a3f18e4",
   "metadata": {},
   "outputs": [
    {
     "data": {
      "text/plain": [
       "ROR                    109222\n",
       "Disposed at arraign     29169\n",
       "Bail-set                23383\n",
       "Nonmonetary release     15746\n",
       "Remanded                 4463\n",
       "Unknown                  2135\n",
       "Name: release decision at arraign, dtype: int64"
      ]
     },
     "execution_count": 46,
     "metadata": {},
     "output_type": "execute_result"
    }
   ],
   "source": [
    "em_df[\"release decision at arraign\"].value_counts()"
   ]
  },
  {
   "cell_type": "code",
   "execution_count": 47,
   "id": "a4be48f4-ee36-49c7-80bb-45c6fa8b4f84",
   "metadata": {},
   "outputs": [
    {
     "data": {
      "text/plain": [
       "N    168103\n",
       "Y     16015\n",
       "Name: nmr_at_arraign, dtype: int64"
      ]
     },
     "execution_count": 47,
     "metadata": {},
     "output_type": "execute_result"
    }
   ],
   "source": [
    "em_df.nmr_at_arraign.value_counts(dropna=False)"
   ]
  },
  {
   "cell_type": "code",
   "execution_count": 48,
   "id": "a4e84d0e-a45b-4dff-a7ed-e3fa084fe9f4",
   "metadata": {},
   "outputs": [
    {
     "data": {
      "text/plain": [
       "N    77011\n",
       "Y     7791\n",
       "Name: nmr_at_arraign, dtype: int64"
      ]
     },
     "execution_count": 48,
     "metadata": {},
     "output_type": "execute_result"
    }
   ],
   "source": [
    "em_df[em_df.county_name.isin([\"Bronx\", \"New York\", \"Kings\", \"Queens\", \"Richmond\"])] \\\n",
    "    [\"nmr_at_arraign\"].value_counts()"
   ]
  },
  {
   "cell_type": "code",
   "execution_count": 49,
   "id": "d6df9e79-7a66-4853-84a5-b29b5d52226e",
   "metadata": {},
   "outputs": [
    {
     "data": {
      "text/plain": [
       "ROR                    53465\n",
       "Bail-set               11781\n",
       "Disposed at arraign    10980\n",
       "Nonmonetary release     7783\n",
       "Remanded                 639\n",
       "Unknown                  154\n",
       "Name: release decision at arraign, dtype: int64"
      ]
     },
     "execution_count": 49,
     "metadata": {},
     "output_type": "execute_result"
    }
   ],
   "source": [
    "em_df[em_df.county_name.isin([\"Bronx\", \"New York\", \"Kings\", \"Queens\", \"Richmond\"])] \\\n",
    "    [\"release decision at arraign\"].value_counts()"
   ]
  },
  {
   "cell_type": "code",
   "execution_count": 101,
   "id": "b3002ea2-42d9-47b7-af63-636a778725a7",
   "metadata": {},
   "outputs": [],
   "source": [
    "em_df = em_df[em_df.county_name.isin([\"Bronx\", \"New York\", \"Kings\", \"Queens\", \"Richmond\"])]"
   ]
  },
  {
   "cell_type": "code",
   "execution_count": 102,
   "id": "f59a2799-3d05-4cfd-b4f3-b6fed5e846e6",
   "metadata": {},
   "outputs": [],
   "source": [
    "nmr_arr = em_df[[\n",
    "            \"pretrial_supervision_at_arraign\", \"contact_pretrial_service_agency\", \n",
    "            \"electronic_monitoring\", \"travel_restrictions\",\n",
    "            \"passport_surrender\",\"no_firearms_or_weapons\",\"maintain_employment\",\n",
    "            \"maintain_housing\", \"maintain_school\", \"placement_in_mandatory_program\", \n",
    "            \"nmr_at_arraign\"]]"
   ]
  },
  {
   "cell_type": "code",
   "execution_count": 103,
   "id": "0d1beddd-d208-4f20-a461-867992909dec",
   "metadata": {},
   "outputs": [],
   "source": [
    "release = em_df[[\n",
    "            \"pretrial_supervision_at_arraign\", \"contact_pretrial_service_agency\", \n",
    "            \"electronic_monitoring\", \"travel_restrictions\",\n",
    "            \"passport_surrender\",\"no_firearms_or_weapons\",\"maintain_employment\",\n",
    "            \"maintain_housing\", \"maintain_school\", \"placement_in_mandatory_program\",\n",
    "            \"release decision at arraign\"]]"
   ]
  },
  {
   "cell_type": "code",
   "execution_count": 104,
   "id": "75d48735-0e8e-4ce2-8b0a-2522c29e43ec",
   "metadata": {},
   "outputs": [],
   "source": [
    "nmr_arr = pd.melt(nmr_arr, id_vars=\"nmr_at_arraign\")\n",
    "release = pd.melt(release, id_vars=\"release decision at arraign\")"
   ]
  },
  {
   "cell_type": "code",
   "execution_count": 105,
   "id": "185fb61a-c935-40e7-ab32-d87668ca6663",
   "metadata": {},
   "outputs": [
    {
     "data": {
      "text/plain": [
       "variable                         value\n",
       "contact_pretrial_service_agency  Y        4105\n",
       "electronic_monitoring            Y           2\n",
       "no_firearms_or_weapons           Y         840\n",
       "passport_surrender               Y           1\n",
       "placement_in_mandatory_program   Y           4\n",
       "pretrial_supervision_at_arraign  Y        3656\n",
       "travel_restrictions              Y          28\n",
       "Name: nmr_at_arraign, dtype: int64"
      ]
     },
     "execution_count": 105,
     "metadata": {},
     "output_type": "execute_result"
    }
   ],
   "source": [
    "nmr_arr[(nmr_arr.nmr_at_arraign == \"Y\") &\n",
    "       (nmr_arr.value == \"Y\")].groupby([\"variable\", \"value\"]).count()['nmr_at_arraign']"
   ]
  },
  {
   "cell_type": "code",
   "execution_count": 107,
   "id": "5a779891-514d-4d8f-974d-ae7a1a1d1018",
   "metadata": {},
   "outputs": [
    {
     "data": {
      "text/plain": [
       "variable                         value\n",
       "contact_pretrial_service_agency  Y        4098\n",
       "electronic_monitoring            Y           2\n",
       "no_firearms_or_weapons           Y         839\n",
       "passport_surrender               Y           1\n",
       "placement_in_mandatory_program   Y           4\n",
       "pretrial_supervision_at_arraign  Y        3655\n",
       "travel_restrictions              Y          28\n",
       "Name: release_status, dtype: int64"
      ]
     },
     "execution_count": 107,
     "metadata": {},
     "output_type": "execute_result"
    }
   ],
   "source": [
    "release.rename(columns = {\"release decision at arraign\":\"release_status\"}, inplace=True)\n",
    "release[(release.release_status == \"Nonmonetary release\") &\n",
    "       (release.value == \"Y\")].groupby([\"variable\", \"value\"]).count()['release_status']"
   ]
  },
  {
   "cell_type": "code",
   "execution_count": null,
   "id": "012646db-895a-47cc-a15b-7521552c45f8",
   "metadata": {},
   "outputs": [],
   "source": []
  },
  {
   "cell_type": "code",
   "execution_count": null,
   "id": "5ae24f8b-2375-41fd-b47c-a5f82d48f588",
   "metadata": {},
   "outputs": [],
   "source": []
  },
  {
   "cell_type": "code",
   "execution_count": null,
   "id": "0e27422f-a99b-41c4-8e93-2c07384bdc58",
   "metadata": {},
   "outputs": [],
   "source": []
  },
  {
   "cell_type": "code",
   "execution_count": null,
   "id": "bc7353fb-78bd-46b3-ae2a-27e386d495e6",
   "metadata": {},
   "outputs": [],
   "source": []
  },
  {
   "cell_type": "code",
   "execution_count": 74,
   "id": "6e40f21e",
   "metadata": {},
   "outputs": [],
   "source": [
    "five_boros = df[df.county_name.isin([\"Bronx\", \"New York\", \"Kings\", \"Queens\", \"Richmond\"])]"
   ]
  },
  {
   "cell_type": "code",
   "execution_count": 75,
   "id": "682b8cd3",
   "metadata": {},
   "outputs": [
    {
     "data": {
      "text/plain": [
       "rearrest\n",
       "0.0    0.784368\n",
       "1.0    0.199594\n",
       "Name: court_name, dtype: float64"
      ]
     },
     "execution_count": 75,
     "metadata": {},
     "output_type": "execute_result"
    }
   ],
   "source": [
    "five_boros.groupby(\"rearrest\").count()[\"court_name\"]/len(five_boros)"
   ]
  },
  {
   "cell_type": "code",
   "execution_count": 81,
   "id": "b507d864",
   "metadata": {},
   "outputs": [
    {
     "name": "stderr",
     "output_type": "stream",
     "text": [
      "<ipython-input-81-18d2b15e2095>:1: SettingWithCopyWarning: \n",
      "A value is trying to be set on a copy of a slice from a DataFrame.\n",
      "Try using .loc[row_indexer,col_indexer] = value instead\n",
      "\n",
      "See the caveats in the documentation: https://pandas.pydata.org/pandas-docs/stable/user_guide/indexing.html#returning-a-view-versus-a-copy\n",
      "  five_boros['total_bail'] = five_boros.first_bail_set_cash + five_boros.first_bail_set_credit\n"
     ]
    }
   ],
   "source": [
    "five_boros['total_bail'] = five_boros.first_bail_set_cash + five_boros.first_bail_set_credit\n",
    "five_boros= five_boros.assign(count_all_priors = lambda x: five_boros.prior_vfo_cnt +\n",
    "                                                 five_boros.prior_nonvfo_cnt +\n",
    "                                                 five_boros.prior_misd_cnt)"
   ]
  },
  {
   "cell_type": "code",
   "execution_count": 105,
   "id": "07800e30",
   "metadata": {},
   "outputs": [
    {
     "data": {
      "text/plain": [
       "<AxesSubplot:>"
      ]
     },
     "execution_count": 105,
     "metadata": {},
     "output_type": "execute_result"
    },
    {
     "data": {
      "image/png": "[encoded data removed]",
      "text/plain": [
       "<Figure size 432x288 with 1 Axes>"
      ]
     },
     "metadata": {},
     "output_type": "display_data"
    }
   ],
   "source": [
    "five_boros[(five_boros['total_bail']>=1)\n",
    "           & (five_boros['total_bail']<60000)] \\\n",
    "            .total_bail.hist(bins=100)"
   ]
  },
  {
   "cell_type": "markdown",
   "id": "659329d7",
   "metadata": {},
   "source": [
    "Lots of \\\\$1 Bails. Also \\\\$10K is the most common followed by \\\\$20K in the five boros of NYC"
   ]
  },
  {
   "cell_type": "code",
   "execution_count": 115,
   "id": "d12bfc7e",
   "metadata": {},
   "outputs": [
    {
     "data": {
      "image/png": "[encoded data removed]",
      "text/plain": [
       "<Figure size 720x576 with 1 Axes>"
      ]
     },
     "metadata": {},
     "output_type": "display_data"
    }
   ],
   "source": [
    "plt.figure(figsize=(10,8))\n",
    "sns.histplot(data=five_boros, x='count_all_priors', hue='rearrest',\n",
    "             palette=\"Set1\",multiple='dodge')\n",
    "plt.show()"
   ]
  },
  {
   "cell_type": "code",
   "execution_count": 43,
   "id": "5a53f9d0",
   "metadata": {},
   "outputs": [
    {
     "data": {
      "text/plain": [
       "rearrest  prior_vfo_cnt\n",
       "0.0       0.0              103876\n",
       "          1.0               14468\n",
       "          2.0                4074\n",
       "1.0       0.0               23897\n",
       "          1.0                5223\n",
       "          2.0                1418\n",
       "NaN       NaN               31162\n",
       "Name: court_name, dtype: int64"
      ]
     },
     "execution_count": 43,
     "metadata": {},
     "output_type": "execute_result"
    }
   ],
   "source": [
    "df.groupby(['rearrest','prior_vfo_cnt'],dropna=False).count()[\"court_name\"]"
   ]
  },
  {
   "cell_type": "code",
   "execution_count": 46,
   "id": "e77db0c8",
   "metadata": {},
   "outputs": [
    {
     "data": {
      "text/plain": [
       "rearrest  prior_nonvfo_cnt\n",
       "0.0       0.0                 92882\n",
       "          1.0                 15994\n",
       "          2.0                  6956\n",
       "          3.0                  3359\n",
       "          4.0                  3227\n",
       "1.0       0.0                 19565\n",
       "          1.0                  5602\n",
       "          2.0                  2674\n",
       "          3.0                  1216\n",
       "          4.0                  1481\n",
       "NaN       NaN                 31162\n",
       "Name: court_name, dtype: int64"
      ]
     },
     "execution_count": 46,
     "metadata": {},
     "output_type": "execute_result"
    }
   ],
   "source": [
    "df.groupby(['rearrest','prior_nonvfo_cnt'], dropna=False).count()[\"court_name\"]"
   ]
  },
  {
   "cell_type": "code",
   "execution_count": 40,
   "id": "77e80e72",
   "metadata": {},
   "outputs": [
    {
     "data": {
      "text/plain": [
       "prior_misd_cnt\n",
       "0.0     0.443520\n",
       "1.0     0.109430\n",
       "2.0     0.061211\n",
       "3.0     0.040995\n",
       "4.0     0.031355\n",
       "5.0     0.023029\n",
       "6.0     0.018499\n",
       "7.0     0.013801\n",
       "8.0     0.012204\n",
       "9.0     0.009163\n",
       "10.0    0.067544\n",
       "NaN     0.169250\n",
       "Name: court_name, dtype: float64"
      ]
     },
     "execution_count": 40,
     "metadata": {},
     "output_type": "execute_result"
    }
   ],
   "source": [
    "df.groupby(['prior_misd_cnt'], dropna=False).count()[\"court_name\"]/len(df)"
   ]
  },
  {
   "cell_type": "code",
   "execution_count": null,
   "id": "bac1bd27",
   "metadata": {},
   "outputs": [],
   "source": []
  }
 ],
 "metadata": {
  "kernelspec": {
   "display_name": "Python 3",
   "language": "python",
   "name": "python3"
  },
  "language_info": {
   "codemirror_mode": {
    "name": "ipython",
    "version": 3
   },
   "file_extension": ".py",
   "mimetype": "text/x-python",
   "name": "python",
   "nbconvert_exporter": "python",
   "pygments_lexer": "ipython3",
   "version": "3.8.8"
  }
 },
 "nbformat": 4,
 "nbformat_minor": 5
}
